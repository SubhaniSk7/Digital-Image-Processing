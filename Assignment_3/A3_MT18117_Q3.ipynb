{
 "cells": [
  {
   "cell_type": "code",
   "execution_count": 139,
   "metadata": {},
   "outputs": [],
   "source": [
    "# References\n",
    "# - used plotImage method from my assignment-2\n",
    "# - used fft2,ifft function from numpy\n"
   ]
  },
  {
   "cell_type": "code",
   "execution_count": 127,
   "metadata": {},
   "outputs": [],
   "source": [
    "import numpy as np\n",
    "import matplotlib.pyplot as plt\n",
    "import cv2\n",
    "from collections import Counter\n",
    "import copy"
   ]
  },
  {
   "cell_type": "code",
   "execution_count": 137,
   "metadata": {},
   "outputs": [],
   "source": [
    "def plotImage(image):\n",
    "    plt.imshow(image,cmap='gray',vmin=-10,vmax=255)\n",
    "    plt.show()\n",
    "    \n",
    "def plotImgFloat(image):\n",
    "    image=np.asarray(image, dtype=int)\n",
    "    plotImage(image)"
   ]
  },
  {
   "cell_type": "code",
   "execution_count": 129,
   "metadata": {},
   "outputs": [
    {
     "data": {
      "image/png": "[encoded data removed]",
      "text/plain": [
       "<Figure size 432x288 with 1 Axes>"
      ]
     },
     "metadata": {
      "needs_background": "light"
     },
     "output_type": "display_data"
    },
    {
     "data": {
      "image/png": "[encoded data removed]",
      "text/plain": [
       "<Figure size 432x288 with 1 Axes>"
      ]
     },
     "metadata": {
      "needs_background": "light"
     },
     "output_type": "display_data"
    }
   ],
   "source": [
    "f=[[1,3,4],[2,5,3],[6,8,9]]\n",
    "f=np.asarray(f)\n",
    "\n",
    "w=[[-1,-2,-3],[-4,0,-1],[-6,-5,-1]]\n",
    "w = np.asarray(w)\n",
    "\n",
    "plotImage(f)\n",
    "plotImage(w)"
   ]
  },
  {
   "cell_type": "markdown",
   "metadata": {},
   "source": [
    "### padding to f"
   ]
  },
  {
   "cell_type": "code",
   "execution_count": 130,
   "metadata": {},
   "outputs": [
    {
     "name": "stdout",
     "output_type": "stream",
     "text": [
      "(5, 5)\n"
     ]
    },
    {
     "data": {
      "image/png": "[encoded data removed]",
      "text/plain": [
       "<Figure size 432x288 with 1 Axes>"
      ]
     },
     "metadata": {
      "needs_background": "light"
     },
     "output_type": "display_data"
    },
    {
     "name": "stdout",
     "output_type": "stream",
     "text": [
      "[[1 3 4 0 0]\n",
      " [2 5 3 0 0]\n",
      " [6 8 9 0 0]\n",
      " [0 0 0 0 0]\n",
      " [0 0 0 0 0]]\n"
     ]
    }
   ],
   "source": [
    "f=np.insert(f, f.shape[1], 0, axis=1)# columns padding\n",
    "f=np.insert(f, f.shape[1], 0, axis=1)\n",
    "f=np.insert(f, f.shape[0], 0, axis=0)#row padding\n",
    "f=np.insert(f, f.shape[0], 0, axis=0)\n",
    "\n",
    "print(f.shape)\n",
    "plotImage(f)\n",
    "print(f)"
   ]
  },
  {
   "cell_type": "markdown",
   "metadata": {},
   "source": [
    "### w: padding and shifting"
   ]
  },
  {
   "cell_type": "code",
   "execution_count": 131,
   "metadata": {},
   "outputs": [
    {
     "name": "stdout",
     "output_type": "stream",
     "text": [
      "(5, 5)\n"
     ]
    },
    {
     "data": {
      "image/png": "[encoded data removed]",
      "text/plain": [
       "<Figure size 432x288 with 1 Axes>"
      ]
     },
     "metadata": {
      "needs_background": "light"
     },
     "output_type": "display_data"
    },
    {
     "name": "stdout",
     "output_type": "stream",
     "text": [
      "[[-1 -2 -3  0  0]\n",
      " [-4  0 -1  0  0]\n",
      " [-6 -5 -1  0  0]\n",
      " [ 0  0  0  0  0]\n",
      " [ 0  0  0  0  0]]\n"
     ]
    }
   ],
   "source": [
    "w=np.insert(w, w.shape[1], 0, axis=1)#Collumn padding\n",
    "w=np.insert(w, w.shape[1], 0, axis=1)\n",
    "w=np.insert(w, w.shape[0], 0, axis=0)#row padding\n",
    "w=np.insert(w, w.shape[0], 0, axis=0)\n",
    "\n",
    "print(w.shape)\n",
    "plotImage(w)\n",
    "print(w)"
   ]
  },
  {
   "cell_type": "code",
   "execution_count": 132,
   "metadata": {},
   "outputs": [
    {
     "name": "stdout",
     "output_type": "stream",
     "text": [
      "[[-2 -3  0  0 -1]\n",
      " [ 0 -1  0  0 -4]\n",
      " [-5 -1  0  0 -6]\n",
      " [ 0  0  0  0  0]\n",
      " [ 0  0  0  0  0]]\n",
      "[[ 0 -1  0  0 -4]\n",
      " [-5 -1  0  0 -6]\n",
      " [ 0  0  0  0  0]\n",
      " [ 0  0  0  0  0]\n",
      " [-2 -3  0  0 -1]]\n"
     ]
    },
    {
     "data": {
      "image/png": "[encoded data removed]",
      "text/plain": [
       "<Figure size 432x288 with 1 Axes>"
      ]
     },
     "metadata": {
      "needs_background": "light"
     },
     "output_type": "display_data"
    }
   ],
   "source": [
    "w=np.roll(w,-1,axis=1)\n",
    "print(w)\n",
    "w=np.roll(w,-1,axis=0)\n",
    "print(w)\n",
    "plotImage(w)"
   ]
  },
  {
   "cell_type": "markdown",
   "metadata": {},
   "source": [
    "### calculating DFT"
   ]
  },
  {
   "cell_type": "code",
   "execution_count": 138,
   "metadata": {},
   "outputs": [
    {
     "name": "stderr",
     "output_type": "stream",
     "text": [
      "C:\\ProgramData\\Anaconda3\\lib\\site-packages\\numpy\\core\\numeric.py:538: ComplexWarning: Casting complex values to real discards the imaginary part\n",
      "  return array(a, dtype, copy=False, order=order)\n"
     ]
    },
    {
     "data": {
      "image/png": "[encoded data removed]",
      "text/plain": [
       "<Figure size 432x288 with 1 Axes>"
      ]
     },
     "metadata": {
      "needs_background": "light"
     },
     "output_type": "display_data"
    },
    {
     "data": {
      "image/png": "[encoded data removed]",
      "text/plain": [
       "<Figure size 432x288 with 1 Axes>"
      ]
     },
     "metadata": {
      "needs_background": "light"
     },
     "output_type": "display_data"
    }
   ],
   "source": [
    "dft_f=np.fft.fft2(f)\n",
    "dft_w=np.fft.fft2(w)\n",
    "\n",
    "plotImgFloat(dft_f)\n",
    "plotImgFloat(dft_w)"
   ]
  },
  {
   "cell_type": "markdown",
   "metadata": {},
   "source": [
    "### calculating Hardaman Product(element wise product)"
   ]
  },
  {
   "cell_type": "code",
   "execution_count": 134,
   "metadata": {},
   "outputs": [
    {
     "name": "stdout",
     "output_type": "stream",
     "text": [
      "[[-9.43000000e+02  +0.j         -1.52442719e+02+288.37917307j\n",
      "   2.64427191e+01 +31.02341921j  2.64427191e+01 -31.02341921j\n",
      "  -1.52442719e+02-288.37917307j]\n",
      " [ 2.10814042e+02+200.3501425j   1.74206651e+02 -16.11496021j\n",
      "  -2.62616461e+00  -0.6205414j  -4.15410197e+01  -6.15536707j\n",
      "   5.58434588e+01 +80.71355835j]\n",
      " [ 1.06859580e+01+177.71063671j  2.55410197e+01  +1.45308506j\n",
      "  -2.06651122e-01  +0.5550291j   2.56565412e+01  +1.25359454j\n",
      "  -1.23373835e+02 +18.01707325j]\n",
      " [ 1.06859580e+01-177.71063671j -1.23373835e+02 -18.01707325j\n",
      "   2.56565412e+01  -1.25359454j -2.06651122e-01  -0.5550291j\n",
      "   2.55410197e+01  -1.45308506j]\n",
      " [ 2.10814042e+02-200.3501425j   5.58434588e+01 -80.71355835j\n",
      "  -4.15410197e+01  +6.15536707j -2.62616461e+00  +0.6205414j\n",
      "   1.74206651e+02 +16.11496021j]]\n"
     ]
    }
   ],
   "source": [
    "h_prod= dft_f * dft_w #hardman product = element-wise product ==np.multiply(dft_f,dft_w)\n",
    "print(h_prod)"
   ]
  },
  {
   "cell_type": "code",
   "execution_count": 135,
   "metadata": {},
   "outputs": [
    {
     "data": {
      "text/plain": [
       "array([[ -21.,  -36.,  -24.,  -13.,   -6.],\n",
       "       [ -63.,  -97.,  -70.,  -34.,  -20.],\n",
       "       [ -72.,  -87.,  -28.,  -12.,  -36.],\n",
       "       [ -78., -100.,  -53.,   -9.,  -36.],\n",
       "       [  -5.,  -13.,  -17.,  -12.,   -1.]])"
      ]
     },
     "execution_count": 135,
     "metadata": {},
     "output_type": "execute_result"
    }
   ],
   "source": [
    "dft_2d = np.fft.ifft2(h_prod).round()\n",
    "real_part = np.real(dft_2d)\n",
    "real_part"
   ]
  },
  {
   "cell_type": "code",
   "execution_count": 136,
   "metadata": {},
   "outputs": [
    {
     "data": {
      "image/png": "[encoded data removed]",
      "text/plain": [
       "<Figure size 432x288 with 1 Axes>"
      ]
     },
     "metadata": {
      "needs_background": "light"
     },
     "output_type": "display_data"
    }
   ],
   "source": [
    "plotImage(real_part)"
   ]
  },
  {
   "cell_type": "code",
   "execution_count": null,
   "metadata": {},
   "outputs": [],
   "source": []
  }
 ],
 "metadata": {
  "kernelspec": {
   "display_name": "Python 3",
   "language": "python",
   "name": "python3"
  },
  "language_info": {
   "codemirror_mode": {
    "name": "ipython",
    "version": 3
   },
   "file_extension": ".py",
   "mimetype": "text/x-python",
   "name": "python",
   "nbconvert_exporter": "python",
   "pygments_lexer": "ipython3",
   "version": "3.7.1"
  }
 },
 "nbformat": 4,
 "nbformat_minor": 2
}
