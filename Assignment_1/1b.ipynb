{
 "cells": [
  {
   "cell_type": "code",
   "execution_count": 1,
   "metadata": {},
   "outputs": [],
   "source": [
    "r=[0,1,2,3]\n",
    "pr=[0.4,0.2,0,0.4]\n",
    "n=2\n",
    "\n",
    "# n=int(input('gray level bits:'))\n",
    "gray_levels=2**n - 1\n",
    "\n",
    "# r,pr =[], []\n",
    "# for i in range(0, gray_levels):\n",
    "#     r.append(i)\n",
    "# print('enter p(r):')\n",
    "# for i in range(0,2**n):\n",
    "#     pr.append(float(input()))"
   ]
  },
  {
   "cell_type": "code",
   "execution_count": 4,
   "metadata": {},
   "outputs": [
    {
     "data": {
      "text/plain": [
       "[1, 2, 2, 3]"
      ]
     },
     "execution_count": 4,
     "metadata": {},
     "output_type": "execute_result"
    }
   ],
   "source": [
    "cdf=[]\n",
    "cdf.append(pr[0])\n",
    "for i in range(1,len(pr)):\n",
    "    cdf.append(cdf[i-1]+pr[i])\n",
    "for i in range(0,len(cdf)):\n",
    "    cdf[i]= round(cdf[i]*gray_levels)\n",
    "cdf"
   ]
  },
  {
   "cell_type": "code",
   "execution_count": null,
   "metadata": {},
   "outputs": [],
   "source": []
  }
 ],
 "metadata": {
  "kernelspec": {
   "display_name": "Python 3",
   "language": "python",
   "name": "python3"
  },
  "language_info": {
   "codemirror_mode": {
    "name": "ipython",
    "version": 3
   },
   "file_extension": ".py",
   "mimetype": "text/x-python",
   "name": "python",
   "nbconvert_exporter": "python",
   "pygments_lexer": "ipython3",
   "version": "3.7.1"
  }
 },
 "nbformat": 4,
 "nbformat_minor": 2
}
