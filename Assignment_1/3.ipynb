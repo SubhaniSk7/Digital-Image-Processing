{
 "cells": [
  {
   "cell_type": "code",
   "execution_count": 4,
   "metadata": {},
   "outputs": [],
   "source": [
    "import numpy as np\n",
    "import numpy.linalg as lin"
   ]
  },
  {
   "cell_type": "code",
   "execution_count": 5,
   "metadata": {},
   "outputs": [],
   "source": [
    "U=[[10, 15, 1],[8, 3, 1],[11, 17, 1],[5, 11, 1],[6, 13, 1]]\n",
    "X=[[33, 20, 1],[18, 7, 1],[37, 22, 1],[20, 13, 1],[23, 16, 1]]\n",
    "\n",
    "U, x=np.array(U), np.array(X)\n",
    "\n",
    "T=np.round(lin.inv(U.T@U)@U.T@X, 4 )"
   ]
  },
  {
   "cell_type": "code",
   "execution_count": 3,
   "metadata": {},
   "outputs": [
    {
     "data": {
      "text/plain": [
       "array([[ 1.9455,  0.519 ,  0.    ],\n",
       "       [ 0.9281,  0.9776, -0.    ],\n",
       "       [-0.3151, -0.0873,  1.    ]])"
      ]
     },
     "execution_count": 3,
     "metadata": {},
     "output_type": "execute_result"
    }
   ],
   "source": [
    "T"
   ]
  },
  {
   "cell_type": "code",
   "execution_count": null,
   "metadata": {},
   "outputs": [],
   "source": []
  }
 ],
 "metadata": {
  "kernelspec": {
   "display_name": "Python 3",
   "language": "python",
   "name": "python3"
  },
  "language_info": {
   "codemirror_mode": {
    "name": "ipython",
    "version": 3
   },
   "file_extension": ".py",
   "mimetype": "text/x-python",
   "name": "python",
   "nbconvert_exporter": "python",
   "pygments_lexer": "ipython3",
   "version": "3.7.1"
  }
 },
 "nbformat": 4,
 "nbformat_minor": 2
}
